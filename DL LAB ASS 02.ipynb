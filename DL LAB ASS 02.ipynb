{
 "cells": [
  {
   "cell_type": "markdown",
   "id": "2ca42f66",
   "metadata": {},
   "source": [
    "# Importing Libraries"
   ]
  },
  {
   "cell_type": "code",
   "execution_count": 1,
   "id": "dd746124",
   "metadata": {},
   "outputs": [],
   "source": [
    "import tensorflow as tf\n",
    "from tensorflow import keras\n",
    "import pandas as pd\n",
    "import numpy as np\n",
    "import matplotlib.pyplot as plt\n",
    "import random \n",
    "%matplotlib inline"
   ]
  },
  {
   "cell_type": "markdown",
   "id": "12ea42a4",
   "metadata": {},
   "source": [
    "# Loading and preparing the data"
   ]
  },
  {
   "cell_type": "code",
   "execution_count": 2,
   "id": "d3ed7926",
   "metadata": {},
   "outputs": [],
   "source": [
    "#import dataset and split into train and test \n",
    "mnist = tf.keras.datasets.mnist\n",
    "(x_train,y_train),(x_test,y_test) = mnist.load_data()"
   ]
  },
  {
   "cell_type": "code",
   "execution_count": 3,
   "id": "70acaa61",
   "metadata": {},
   "outputs": [
    {
     "data": {
      "text/plain": [
       "<matplotlib.image.AxesImage at 0x1d0477212a0>"
      ]
     },
     "execution_count": 3,
     "metadata": {},
     "output_type": "execute_result"
    },
    {
     "data": {
      "image/png": "[encoded data removed]",
      "text/plain": [
       "<Figure size 480x480 with 1 Axes>"
      ]
     },
     "metadata": {},
     "output_type": "display_data"
    }
   ],
   "source": [
    "#to see how first image looks\n",
    "plt.matshow(x_train[0])"
   ]
  },
  {
   "cell_type": "code",
   "execution_count": 4,
   "id": "0d78e5bf",
   "metadata": {},
   "outputs": [],
   "source": [
    "#normalising the images by scaling the pixel intensities to the range 0 to 1\n",
    "x_train = x_train / 255\n",
    "x_test = x_test / 255"
   ]
  },
  {
   "cell_type": "markdown",
   "id": "dacae93a",
   "metadata": {},
   "source": [
    "# Creating the Model"
   ]
  },
  {
   "cell_type": "code",
   "execution_count": 5,
   "id": "3afd77cb",
   "metadata": {},
   "outputs": [],
   "source": [
    "model = keras.Sequential([\n",
    "    keras.layers.Flatten(input_shape=(28,28)),\n",
    "    keras.layers.Dense(128,activation = 'relu'),\n",
    "    keras.layers.Dense(10,activation = 'softmax')\n",
    "])"
   ]
  },
  {
   "cell_type": "code",
   "execution_count": 6,
   "id": "f853ab52",
   "metadata": {},
   "outputs": [
    {
     "name": "stdout",
     "output_type": "stream",
     "text": [
      "Model: \"sequential\"\n",
      "_________________________________________________________________\n",
      " Layer (type)                Output Shape              Param #   \n",
      "=================================================================\n",
      " flatten (Flatten)           (None, 784)               0         \n",
      "                                                                 \n",
      " dense (Dense)               (None, 128)               100480    \n",
      "                                                                 \n",
      " dense_1 (Dense)             (None, 10)                1290      \n",
      "                                                                 \n",
      "=================================================================\n",
      "Total params: 101770 (397.54 KB)\n",
      "Trainable params: 101770 (397.54 KB)\n",
      "Non-trainable params: 0 (0.00 Byte)\n",
      "_________________________________________________________________\n"
     ]
    }
   ],
   "source": [
    "model.summary()"
   ]
  },
  {
   "cell_type": "markdown",
   "id": "4f0a3856",
   "metadata": {},
   "source": [
    "# Compile the model"
   ]
  },
  {
   "cell_type": "code",
   "execution_count": 7,
   "id": "e2f08ca6",
   "metadata": {},
   "outputs": [],
   "source": [
    "model.compile(optimizer = 'sgd',loss = 'sparse_categorical_crossentropy', metrics = ['accuracy'])"
   ]
  },
  {
   "cell_type": "markdown",
   "id": "72e6bbf4",
   "metadata": {},
   "source": [
    "# Train the Model"
   ]
  },
  {
   "cell_type": "code",
   "execution_count": 8,
   "id": "829568f2",
   "metadata": {},
   "outputs": [
    {
     "name": "stdout",
     "output_type": "stream",
     "text": [
      "Epoch 1/10\n",
      "1875/1875 [==============================] - 7s 4ms/step - loss: 0.6344 - accuracy: 0.8412 - val_loss: 0.3563 - val_accuracy: 0.9052\n",
      "Epoch 2/10\n",
      "1875/1875 [==============================] - 7s 4ms/step - loss: 0.3405 - accuracy: 0.9050 - val_loss: 0.2967 - val_accuracy: 0.9198\n",
      "Epoch 3/10\n",
      "1875/1875 [==============================] - 8s 4ms/step - loss: 0.2943 - accuracy: 0.9169 - val_loss: 0.2659 - val_accuracy: 0.9268\n",
      "Epoch 4/10\n",
      "1875/1875 [==============================] - 8s 4ms/step - loss: 0.2651 - accuracy: 0.9255 - val_loss: 0.2443 - val_accuracy: 0.9314\n",
      "Epoch 5/10\n",
      "1875/1875 [==============================] - 7s 4ms/step - loss: 0.2421 - accuracy: 0.9323 - val_loss: 0.2301 - val_accuracy: 0.9354\n",
      "Epoch 6/10\n",
      "1875/1875 [==============================] - 7s 3ms/step - loss: 0.2227 - accuracy: 0.9381 - val_loss: 0.2125 - val_accuracy: 0.9406\n",
      "Epoch 7/10\n",
      "1875/1875 [==============================] - 8s 4ms/step - loss: 0.2068 - accuracy: 0.9422 - val_loss: 0.1977 - val_accuracy: 0.9428\n",
      "Epoch 8/10\n",
      "1875/1875 [==============================] - 7s 4ms/step - loss: 0.1927 - accuracy: 0.9466 - val_loss: 0.1856 - val_accuracy: 0.9464\n",
      "Epoch 9/10\n",
      "1875/1875 [==============================] - 8s 4ms/step - loss: 0.1805 - accuracy: 0.9499 - val_loss: 0.1756 - val_accuracy: 0.9502\n",
      "Epoch 10/10\n",
      "1875/1875 [==============================] - 7s 4ms/step - loss: 0.1700 - accuracy: 0.9526 - val_loss: 0.1672 - val_accuracy: 0.9517\n"
     ]
    }
   ],
   "source": [
    "history = model.fit(x_train,y_train,validation_data = (x_test,y_test), epochs = 10)"
   ]
  },
  {
   "cell_type": "markdown",
   "id": "44b0b31d",
   "metadata": {},
   "source": [
    "# Evaluate the Model"
   ]
  },
  {
   "cell_type": "code",
   "execution_count": 9,
   "id": "01b1305a",
   "metadata": {},
   "outputs": [
    {
     "name": "stdout",
     "output_type": "stream",
     "text": [
      "313/313 [==============================] - 1s 3ms/step - loss: 0.1672 - accuracy: 0.9517\n",
      "Loss = 0.167\n",
      "Accuracy = 0.952\n"
     ]
    }
   ],
   "source": [
    "test_loss,test_acc = model.evaluate(x_test,y_test)\n",
    "print(\"Loss = %.3f\" %test_loss)\n",
    "print(\"Accuracy = %.3f\" %test_acc)"
   ]
  },
  {
   "cell_type": "markdown",
   "id": "a90aaddf",
   "metadata": {},
   "source": [
    "# Making Prediction on New Data"
   ]
  },
  {
   "cell_type": "code",
   "execution_count": 10,
   "id": "cb5c87d8",
   "metadata": {},
   "outputs": [
    {
     "name": "stdout",
     "output_type": "stream",
     "text": [
      "313/313 [==============================] - 1s 2ms/step\n"
     ]
    },
    {
     "data": {
      "image/png": "[encoded data removed]",
      "text/plain": [
       "<Figure size 640x480 with 1 Axes>"
      ]
     },
     "metadata": {},
     "output_type": "display_data"
    }
   ],
   "source": [
    "n = random.randint(0,9999)\n",
    "plt.imshow(x_test[n])\n",
    "predicted_value=model.predict(x_test)\n",
    "plt.show()"
   ]
  },
  {
   "cell_type": "code",
   "execution_count": 11,
   "id": "9ad1c4bb",
   "metadata": {},
   "outputs": [
    {
     "name": "stdout",
     "output_type": "stream",
     "text": [
      "Predicted Value:  [5.3660318e-07 6.1453602e-07 4.2337910e-05 9.8807108e-01 3.9445058e-07\n",
      " 6.6886045e-04 1.4797590e-10 7.2979354e-05 1.1025935e-02 1.1724561e-04]\n"
     ]
    }
   ],
   "source": [
    "print('Predicted Value: ', predicted_value[n])"
   ]
  },
  {
   "cell_type": "markdown",
   "id": "fcde8c2a",
   "metadata": {},
   "source": [
    "# Confusion Matrix"
   ]
  },
  {
   "cell_type": "code",
   "execution_count": null,
   "id": "4df8d4ab",
   "metadata": {},
   "outputs": [],
   "source": []
  },
  {
   "cell_type": "code",
   "execution_count": 12,
   "id": "87d4c10a",
   "metadata": {},
   "outputs": [
    {
     "name": "stdout",
     "output_type": "stream",
     "text": [
      "313/313 [==============================] - 1s 2ms/step\n",
      "Confusion Matrix of the Test Set :\n",
      " tf.Tensor(\n",
      "[[ 964    0    1    1    0    4    5    2    2    1]\n",
      " [   0 1116    2    2    0    1    4    2    8    0]\n",
      " [   7    2  973   10    9    1    4   10   12    4]\n",
      " [   2    1   10  969    0    5    0   10   10    3]\n",
      " [   1    1    7    0  932    0    5    3    4   29]\n",
      " [  10    1    0   20    4  823   12    2   14    6]\n",
      " [   9    3    3    1    7   10  919    1    5    0]\n",
      " [   1    9   20    7    4    0    0  961    1   25]\n",
      " [   3    1    3   16    8    9    8    7  913    6]\n",
      " [   7    6    1   14   18    5    1    6    4  947]], shape=(10, 10), dtype=int32)\n"
     ]
    }
   ],
   "source": [
    "test_predict = model.predict(x_test)\n",
    "#get classification labels\n",
    "test_predict_labels = np.argmax(test_predict,axis = 1)\n",
    "confusion_matrix = tf.math.confusion_matrix(labels = y_test, predictions = test_predict_labels)\n",
    "print('Confusion Matrix of the Test Set :\\n' , confusion_matrix)"
   ]
  },
  {
   "cell_type": "code",
   "execution_count": 13,
   "id": "826ed943",
   "metadata": {},
   "outputs": [
    {
     "data": {
      "image/png": "[encoded data removed]",
      "text/plain": [
       "<Figure size 640x480 with 1 Axes>"
      ]
     },
     "metadata": {},
     "output_type": "display_data"
    }
   ],
   "source": [
    "plt.plot(history.history[\"accuracy\"])\n",
    "plt.plot(history.history[\"val_accuracy\"])\n",
    "plt.title('Model Accuracy')\n",
    "plt.ylabel('Accuracy')\n",
    "plt.xlabel('Epoch')\n",
    "plt.legend(['Train', 'Validation'], loc='center right')\n",
    "plt.show()"
   ]
  },
  {
   "cell_type": "code",
   "execution_count": null,
   "id": "29aa3db1",
   "metadata": {},
   "outputs": [],
   "source": []
  }
 ],
 "metadata": {
  "kernelspec": {
   "display_name": "Python 3 (ipykernel)",
   "language": "python",
   "name": "python3"
  },
  "language_info": {
   "codemirror_mode": {
    "name": "ipython",
    "version": 3
   },
   "file_extension": ".py",
   "mimetype": "text/x-python",
   "name": "python",
   "nbconvert_exporter": "python",
   "pygments_lexer": "ipython3",
   "version": "3.10.9"
  }
 },
 "nbformat": 4,
 "nbformat_minor": 5
}
