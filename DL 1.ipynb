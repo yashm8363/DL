{
 "cells": [
  {
   "cell_type": "markdown",
   "id": "c20f2d14",
   "metadata": {},
   "source": [
    "Installation of Tensorflow"
   ]
  },
  {
   "cell_type": "code",
   "execution_count": null,
   "id": "b426211f",
   "metadata": {},
   "outputs": [],
   "source": [
    "pip install tensorflow"
   ]
  },
  {
   "cell_type": "code",
   "execution_count": 3,
   "id": "905055ca",
   "metadata": {},
   "outputs": [],
   "source": [
    "import tensorflow as tf"
   ]
  },
  {
   "cell_type": "markdown",
   "id": "fb5610a1",
   "metadata": {},
   "source": [
    "Print out Tensorflow version"
   ]
  },
  {
   "cell_type": "code",
   "execution_count": 5,
   "id": "df305a3b",
   "metadata": {},
   "outputs": [
    {
     "name": "stdout",
     "output_type": "stream",
     "text": [
      "2.10.0\n"
     ]
    }
   ],
   "source": [
    "print(tf.__version__)"
   ]
  },
  {
   "cell_type": "code",
   "execution_count": 6,
   "id": "ba31abc7",
   "metadata": {},
   "outputs": [
    {
     "name": "stdout",
     "output_type": "stream",
     "text": [
      "tf.Tensor(-525.7693, shape=(), dtype=float32)\n"
     ]
    }
   ],
   "source": [
    "print(tf.reduce_sum(tf.random.normal([1000,1000])))"
   ]
  },
  {
   "cell_type": "code",
   "execution_count": 4,
   "id": "6d661176",
   "metadata": {},
   "outputs": [
    {
     "name": "stdout",
     "output_type": "stream",
     "text": [
      "Requirement already satisfied: keras in c:\\users\\poona\\anaconda3\\lib\\site-packages (2.10.0)\n",
      "Note: you may need to restart the kernel to use updated packages.\n"
     ]
    }
   ],
   "source": [
    "pip install keras"
   ]
  },
  {
   "cell_type": "markdown",
   "id": "fe95976a",
   "metadata": {},
   "source": [
    "# Keras Test Program "
   ]
  },
  {
   "cell_type": "code",
   "execution_count": 7,
   "id": "4c67c3e7",
   "metadata": {},
   "outputs": [],
   "source": [
    "from tensorflow import keras"
   ]
  },
  {
   "cell_type": "code",
   "execution_count": 8,
   "id": "1d9b0fe7",
   "metadata": {},
   "outputs": [],
   "source": [
    "from keras import datasets"
   ]
  },
  {
   "cell_type": "markdown",
   "id": "0c44ae8c",
   "metadata": {},
   "source": [
    "Loading MNIST Data"
   ]
  },
  {
   "cell_type": "code",
   "execution_count": 9,
   "id": "13a195d9",
   "metadata": {},
   "outputs": [
    {
     "name": "stdout",
     "output_type": "stream",
     "text": [
      "Downloading data from https://storage.googleapis.com/tensorflow/tf-keras-datasets/mnist.npz\n",
      "11490434/11490434 [==============================] - 1s 0us/step\n"
     ]
    }
   ],
   "source": [
    "(train_images,train_labels),(test_images,test_labels)=datasets.mnist.load_data()"
   ]
  },
  {
   "cell_type": "markdown",
   "id": "bbc62ecc",
   "metadata": {},
   "source": [
    "Check the dataset loaded"
   ]
  },
  {
   "cell_type": "code",
   "execution_count": 10,
   "id": "ac9513b2",
   "metadata": {},
   "outputs": [
    {
     "data": {
      "text/plain": [
       "((60000, 28, 28), (10000, 28, 28))"
      ]
     },
     "execution_count": 10,
     "metadata": {},
     "output_type": "execute_result"
    }
   ],
   "source": [
    "train_images.shape,test_images.shape"
   ]
  },
  {
   "cell_type": "markdown",
   "id": "09249e0a",
   "metadata": {},
   "source": [
    "# Theano Test Program"
   ]
  },
  {
   "cell_type": "code",
   "execution_count": 13,
   "id": "e6e80b79",
   "metadata": {},
   "outputs": [
    {
     "name": "stdout",
     "output_type": "stream",
     "text": [
      "Collecting theano\n",
      "  Downloading Theano-1.0.5.tar.gz (2.8 MB)\n",
      "Requirement already satisfied: numpy>=1.9.1 in c:\\users\\poona\\anaconda3\\lib\\site-packages (from theano) (1.21.5)\n",
      "Requirement already satisfied: scipy>=0.14 in c:\\users\\poona\\anaconda3\\lib\\site-packages (from theano) (1.7.3)\n",
      "Requirement already satisfied: six>=1.9.0 in c:\\users\\poona\\anaconda3\\lib\\site-packages (from theano) (1.16.0)\n",
      "Building wheels for collected packages: theano\n",
      "  Building wheel for theano (setup.py): started\n",
      "  Building wheel for theano (setup.py): finished with status 'done'\n",
      "  Created wheel for theano: filename=Theano-1.0.5-py3-none-any.whl size=2668124 sha256=f0ad9c0b7cec6801bf917d3b95dc59a556c2246a892c08c3dd6cdc915040798b\n",
      "  Stored in directory: c:\\users\\poona\\appdata\\local\\pip\\cache\\wheels\\12\\d8\\36\\e9b7c617ca8be398dcc48621c539d0cb1d41ff04e4367fc235\n",
      "Successfully built theano\n",
      "Installing collected packages: theano\n",
      "Successfully installed theano-1.0.5\n",
      "Note: you may need to restart the kernel to use updated packages.\n"
     ]
    }
   ],
   "source": [
    "pip install theano"
   ]
  },
  {
   "cell_type": "code",
   "execution_count": 14,
   "id": "21c80d95",
   "metadata": {},
   "outputs": [],
   "source": [
    "import numpy"
   ]
  },
  {
   "cell_type": "code",
   "execution_count": 15,
   "id": "946ceeba",
   "metadata": {},
   "outputs": [
    {
     "name": "stderr",
     "output_type": "stream",
     "text": [
      "WARNING (theano.tensor.blas): Using NumPy C-API based implementation for BLAS functions.\n"
     ]
    }
   ],
   "source": [
    "import theano.tensor as T"
   ]
  },
  {
   "cell_type": "code",
   "execution_count": 16,
   "id": "eaa1a659",
   "metadata": {},
   "outputs": [],
   "source": [
    "from theano import function"
   ]
  },
  {
   "cell_type": "markdown",
   "id": "c9333d30",
   "metadata": {},
   "source": [
    "**Addition of two scalars**"
   ]
  },
  {
   "cell_type": "markdown",
   "id": "8239f5a6",
   "metadata": {},
   "source": [
    "Declaring Two Variables"
   ]
  },
  {
   "cell_type": "code",
   "execution_count": 17,
   "id": "7948929a",
   "metadata": {},
   "outputs": [],
   "source": [
    "x = T.dscalar('x')"
   ]
  },
  {
   "cell_type": "code",
   "execution_count": 18,
   "id": "7446f8e9",
   "metadata": {},
   "outputs": [],
   "source": [
    "y = T.dscalar('y')"
   ]
  },
  {
   "cell_type": "markdown",
   "id": "ade601d5",
   "metadata": {},
   "source": [
    "summing up the two numbers"
   ]
  },
  {
   "cell_type": "code",
   "execution_count": 24,
   "id": "1a2fe4ba",
   "metadata": {},
   "outputs": [],
   "source": [
    "z = x + y"
   ]
  },
  {
   "cell_type": "code",
   "execution_count": 20,
   "id": "e9d18cf5",
   "metadata": {},
   "outputs": [],
   "source": [
    "f = function([x,y],z)"
   ]
  },
  {
   "cell_type": "code",
   "execution_count": 21,
   "id": "3765e3da",
   "metadata": {},
   "outputs": [
    {
     "data": {
      "text/plain": [
       "array(12.)"
      ]
     },
     "execution_count": 21,
     "metadata": {},
     "output_type": "execute_result"
    }
   ],
   "source": [
    "f(5,7)"
   ]
  },
  {
   "cell_type": "markdown",
   "id": "1bf63ad2",
   "metadata": {},
   "source": [
    "# PyTorch Test Program"
   ]
  },
  {
   "cell_type": "code",
   "execution_count": 23,
   "id": "d5e9078a",
   "metadata": {},
   "outputs": [
    {
     "name": "stdout",
     "output_type": "stream",
     "text": [
      "Collecting torch\n",
      "  Downloading torch-1.12.1-cp39-cp39-win_amd64.whl (161.8 MB)\n",
      "Requirement already satisfied: typing-extensions in c:\\users\\poona\\anaconda3\\lib\\site-packages (from torch) (4.1.1)\n",
      "Installing collected packages: torch\n",
      "Successfully installed torch-1.12.1\n",
      "Note: you may need to restart the kernel to use updated packages.\n"
     ]
    }
   ],
   "source": [
    "pip install torch"
   ]
  },
  {
   "cell_type": "markdown",
   "id": "b17befc1",
   "metadata": {},
   "source": [
    "Importing torch"
   ]
  },
  {
   "cell_type": "code",
   "execution_count": 25,
   "id": "24841c86",
   "metadata": {},
   "outputs": [],
   "source": [
    "import torch"
   ]
  },
  {
   "cell_type": "code",
   "execution_count": 26,
   "id": "8e729110",
   "metadata": {},
   "outputs": [],
   "source": [
    "import torch.nn as nn"
   ]
  },
  {
   "cell_type": "markdown",
   "id": "ebece799",
   "metadata": {},
   "source": [
    "Print out  PyTorch version"
   ]
  },
  {
   "cell_type": "code",
   "execution_count": 27,
   "id": "2e56ac9c",
   "metadata": {},
   "outputs": [
    {
     "name": "stdout",
     "output_type": "stream",
     "text": [
      "1.12.1+cpu\n"
     ]
    }
   ],
   "source": [
    "print(torch.__version__)"
   ]
  },
  {
   "cell_type": "code",
   "execution_count": null,
   "id": "276cf051",
   "metadata": {},
   "outputs": [],
   "source": []
  }
 ],
 "metadata": {
  "kernelspec": {
   "display_name": "Python 3 (ipykernel)",
   "language": "python",
   "name": "python3"
  },
  "language_info": {
   "codemirror_mode": {
    "name": "ipython",
    "version": 3
   },
   "file_extension": ".py",
   "mimetype": "text/x-python",
   "name": "python",
   "nbconvert_exporter": "python",
   "pygments_lexer": "ipython3",
   "version": "3.10.9"
  }
 },
 "nbformat": 4,
 "nbformat_minor": 5
}
